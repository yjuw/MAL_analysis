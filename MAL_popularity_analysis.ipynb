{
 "cells": [
  {
   "cell_type": "code",
   "execution_count": 1,
   "metadata": {},
   "outputs": [],
   "source": [
    "import pandas as pd\n",
    "import seaborn as sns"
   ]
  },
  {
   "cell_type": "code",
   "execution_count": 2,
   "metadata": {},
   "outputs": [],
   "source": [
    "mal_df = pd.read_csv(\"AnimeList.csv\")"
   ]
  },
  {
   "cell_type": "code",
   "execution_count": 3,
   "metadata": {},
   "outputs": [
    {
     "data": {
      "text/html": [
       "<div>\n",
       "<style scoped>\n",
       "    .dataframe tbody tr th:only-of-type {\n",
       "        vertical-align: middle;\n",
       "    }\n",
       "\n",
       "    .dataframe tbody tr th {\n",
       "        vertical-align: top;\n",
       "    }\n",
       "\n",
       "    .dataframe thead th {\n",
       "        text-align: right;\n",
       "    }\n",
       "</style>\n",
       "<table border=\"1\" class=\"dataframe\">\n",
       "  <thead>\n",
       "    <tr style=\"text-align: right;\">\n",
       "      <th></th>\n",
       "      <th>anime_id</th>\n",
       "      <th>title</th>\n",
       "      <th>title_english</th>\n",
       "      <th>title_japanese</th>\n",
       "      <th>title_synonyms</th>\n",
       "      <th>image_url</th>\n",
       "      <th>type</th>\n",
       "      <th>source</th>\n",
       "      <th>episodes</th>\n",
       "      <th>status</th>\n",
       "      <th>...</th>\n",
       "      <th>background</th>\n",
       "      <th>premiered</th>\n",
       "      <th>broadcast</th>\n",
       "      <th>related</th>\n",
       "      <th>producer</th>\n",
       "      <th>licensor</th>\n",
       "      <th>studio</th>\n",
       "      <th>genre</th>\n",
       "      <th>opening_theme</th>\n",
       "      <th>ending_theme</th>\n",
       "    </tr>\n",
       "  </thead>\n",
       "  <tbody>\n",
       "    <tr>\n",
       "      <th>0</th>\n",
       "      <td>11013</td>\n",
       "      <td>Inu x Boku SS</td>\n",
       "      <td>Inu X Boku Secret Service</td>\n",
       "      <td>妖狐×僕SS</td>\n",
       "      <td>Youko x Boku SS</td>\n",
       "      <td>https://myanimelist.cdn-dena.com/images/anime/...</td>\n",
       "      <td>TV</td>\n",
       "      <td>Manga</td>\n",
       "      <td>12</td>\n",
       "      <td>Finished Airing</td>\n",
       "      <td>...</td>\n",
       "      <td>Inu x Boku SS was licensed by Sentai Filmworks...</td>\n",
       "      <td>Winter 2012</td>\n",
       "      <td>Fridays at Unknown</td>\n",
       "      <td>{'Adaptation': [{'mal_id': 17207, 'type': 'man...</td>\n",
       "      <td>Aniplex, Square Enix, Mainichi Broadcasting Sy...</td>\n",
       "      <td>Sentai Filmworks</td>\n",
       "      <td>David Production</td>\n",
       "      <td>Comedy, Supernatural, Romance, Shounen</td>\n",
       "      <td>['\"Nirvana\" by MUCC']</td>\n",
       "      <td>['#1: \"Nirvana\" by MUCC (eps 1, 11-12)', '#2: ...</td>\n",
       "    </tr>\n",
       "    <tr>\n",
       "      <th>1</th>\n",
       "      <td>2104</td>\n",
       "      <td>Seto no Hanayome</td>\n",
       "      <td>My Bride is a Mermaid</td>\n",
       "      <td>瀬戸の花嫁</td>\n",
       "      <td>The Inland Sea Bride</td>\n",
       "      <td>https://myanimelist.cdn-dena.com/images/anime/...</td>\n",
       "      <td>TV</td>\n",
       "      <td>Manga</td>\n",
       "      <td>26</td>\n",
       "      <td>Finished Airing</td>\n",
       "      <td>...</td>\n",
       "      <td>NaN</td>\n",
       "      <td>Spring 2007</td>\n",
       "      <td>Unknown</td>\n",
       "      <td>{'Adaptation': [{'mal_id': 759, 'type': 'manga...</td>\n",
       "      <td>TV Tokyo, AIC, Square Enix, Sotsu</td>\n",
       "      <td>Funimation</td>\n",
       "      <td>Gonzo</td>\n",
       "      <td>Comedy, Parody, Romance, School, Shounen</td>\n",
       "      <td>['\"Romantic summer\" by SUN&amp;LUNAR']</td>\n",
       "      <td>['#1: \"Ashita e no Hikari (明日への光)\" by Asuka Hi...</td>\n",
       "    </tr>\n",
       "    <tr>\n",
       "      <th>2</th>\n",
       "      <td>5262</td>\n",
       "      <td>Shugo Chara!! Doki</td>\n",
       "      <td>Shugo Chara!! Doki</td>\n",
       "      <td>しゅごキャラ！！どきっ</td>\n",
       "      <td>Shugo Chara Ninenme, Shugo Chara! Second Year</td>\n",
       "      <td>https://myanimelist.cdn-dena.com/images/anime/...</td>\n",
       "      <td>TV</td>\n",
       "      <td>Manga</td>\n",
       "      <td>51</td>\n",
       "      <td>Finished Airing</td>\n",
       "      <td>...</td>\n",
       "      <td>NaN</td>\n",
       "      <td>Fall 2008</td>\n",
       "      <td>Unknown</td>\n",
       "      <td>{'Adaptation': [{'mal_id': 101, 'type': 'manga...</td>\n",
       "      <td>TV Tokyo, Sotsu</td>\n",
       "      <td>NaN</td>\n",
       "      <td>Satelight</td>\n",
       "      <td>Comedy, Magic, School, Shoujo</td>\n",
       "      <td>['#1: \"Minna no Tamago (みんなのたまご)\" by Shugo Cha...</td>\n",
       "      <td>['#1: \"Rottara Rottara (ロッタラ ロッタラ)\" by Buono! ...</td>\n",
       "    </tr>\n",
       "    <tr>\n",
       "      <th>3</th>\n",
       "      <td>721</td>\n",
       "      <td>Princess Tutu</td>\n",
       "      <td>Princess Tutu</td>\n",
       "      <td>プリンセスチュチュ</td>\n",
       "      <td>NaN</td>\n",
       "      <td>https://myanimelist.cdn-dena.com/images/anime/...</td>\n",
       "      <td>TV</td>\n",
       "      <td>Original</td>\n",
       "      <td>38</td>\n",
       "      <td>Finished Airing</td>\n",
       "      <td>...</td>\n",
       "      <td>Princess Tutu aired in two parts. The first pa...</td>\n",
       "      <td>Summer 2002</td>\n",
       "      <td>Fridays at Unknown</td>\n",
       "      <td>{'Adaptation': [{'mal_id': 1581, 'type': 'mang...</td>\n",
       "      <td>Memory-Tech, GANSIS, Marvelous AQL</td>\n",
       "      <td>ADV Films</td>\n",
       "      <td>Hal Film Maker</td>\n",
       "      <td>Comedy, Drama, Magic, Romance, Fantasy</td>\n",
       "      <td>['\"Morning Grace\" by Ritsuko Okazaki']</td>\n",
       "      <td>['\"Watashi No Ai Wa Chiisaikeredo\" by Ritsuko ...</td>\n",
       "    </tr>\n",
       "    <tr>\n",
       "      <th>4</th>\n",
       "      <td>12365</td>\n",
       "      <td>Bakuman. 3rd Season</td>\n",
       "      <td>Bakuman.</td>\n",
       "      <td>バクマン。</td>\n",
       "      <td>Bakuman Season 3</td>\n",
       "      <td>https://myanimelist.cdn-dena.com/images/anime/...</td>\n",
       "      <td>TV</td>\n",
       "      <td>Manga</td>\n",
       "      <td>25</td>\n",
       "      <td>Finished Airing</td>\n",
       "      <td>...</td>\n",
       "      <td>NaN</td>\n",
       "      <td>Fall 2012</td>\n",
       "      <td>Unknown</td>\n",
       "      <td>{'Adaptation': [{'mal_id': 9711, 'type': 'mang...</td>\n",
       "      <td>NHK, Shueisha</td>\n",
       "      <td>NaN</td>\n",
       "      <td>J.C.Staff</td>\n",
       "      <td>Comedy, Drama, Romance, Shounen</td>\n",
       "      <td>['#1: \"Moshimo no Hanashi (もしもの話)\" by nano.RIP...</td>\n",
       "      <td>['#1: \"Pride on Everyday\" by Sphere (eps 1-13)...</td>\n",
       "    </tr>\n",
       "  </tbody>\n",
       "</table>\n",
       "<p>5 rows × 31 columns</p>\n",
       "</div>"
      ],
      "text/plain": [
       "   anime_id                title              title_english title_japanese  \\\n",
       "0     11013        Inu x Boku SS  Inu X Boku Secret Service         妖狐×僕SS   \n",
       "1      2104     Seto no Hanayome      My Bride is a Mermaid          瀬戸の花嫁   \n",
       "2      5262   Shugo Chara!! Doki         Shugo Chara!! Doki    しゅごキャラ！！どきっ   \n",
       "3       721        Princess Tutu              Princess Tutu      プリンセスチュチュ   \n",
       "4     12365  Bakuman. 3rd Season                   Bakuman.          バクマン。   \n",
       "\n",
       "                                  title_synonyms  \\\n",
       "0                                Youko x Boku SS   \n",
       "1                           The Inland Sea Bride   \n",
       "2  Shugo Chara Ninenme, Shugo Chara! Second Year   \n",
       "3                                            NaN   \n",
       "4                               Bakuman Season 3   \n",
       "\n",
       "                                           image_url type    source  episodes  \\\n",
       "0  https://myanimelist.cdn-dena.com/images/anime/...   TV     Manga        12   \n",
       "1  https://myanimelist.cdn-dena.com/images/anime/...   TV     Manga        26   \n",
       "2  https://myanimelist.cdn-dena.com/images/anime/...   TV     Manga        51   \n",
       "3  https://myanimelist.cdn-dena.com/images/anime/...   TV  Original        38   \n",
       "4  https://myanimelist.cdn-dena.com/images/anime/...   TV     Manga        25   \n",
       "\n",
       "            status  ...                                         background  \\\n",
       "0  Finished Airing  ...  Inu x Boku SS was licensed by Sentai Filmworks...   \n",
       "1  Finished Airing  ...                                                NaN   \n",
       "2  Finished Airing  ...                                                NaN   \n",
       "3  Finished Airing  ...  Princess Tutu aired in two parts. The first pa...   \n",
       "4  Finished Airing  ...                                                NaN   \n",
       "\n",
       "     premiered           broadcast  \\\n",
       "0  Winter 2012  Fridays at Unknown   \n",
       "1  Spring 2007             Unknown   \n",
       "2    Fall 2008             Unknown   \n",
       "3  Summer 2002  Fridays at Unknown   \n",
       "4    Fall 2012             Unknown   \n",
       "\n",
       "                                             related  \\\n",
       "0  {'Adaptation': [{'mal_id': 17207, 'type': 'man...   \n",
       "1  {'Adaptation': [{'mal_id': 759, 'type': 'manga...   \n",
       "2  {'Adaptation': [{'mal_id': 101, 'type': 'manga...   \n",
       "3  {'Adaptation': [{'mal_id': 1581, 'type': 'mang...   \n",
       "4  {'Adaptation': [{'mal_id': 9711, 'type': 'mang...   \n",
       "\n",
       "                                            producer          licensor  \\\n",
       "0  Aniplex, Square Enix, Mainichi Broadcasting Sy...  Sentai Filmworks   \n",
       "1                  TV Tokyo, AIC, Square Enix, Sotsu        Funimation   \n",
       "2                                    TV Tokyo, Sotsu               NaN   \n",
       "3                 Memory-Tech, GANSIS, Marvelous AQL         ADV Films   \n",
       "4                                      NHK, Shueisha               NaN   \n",
       "\n",
       "             studio                                     genre  \\\n",
       "0  David Production    Comedy, Supernatural, Romance, Shounen   \n",
       "1             Gonzo  Comedy, Parody, Romance, School, Shounen   \n",
       "2         Satelight             Comedy, Magic, School, Shoujo   \n",
       "3    Hal Film Maker    Comedy, Drama, Magic, Romance, Fantasy   \n",
       "4         J.C.Staff           Comedy, Drama, Romance, Shounen   \n",
       "\n",
       "                                       opening_theme  \\\n",
       "0                              ['\"Nirvana\" by MUCC']   \n",
       "1                 ['\"Romantic summer\" by SUN&LUNAR']   \n",
       "2  ['#1: \"Minna no Tamago (みんなのたまご)\" by Shugo Cha...   \n",
       "3             ['\"Morning Grace\" by Ritsuko Okazaki']   \n",
       "4  ['#1: \"Moshimo no Hanashi (もしもの話)\" by nano.RIP...   \n",
       "\n",
       "                                        ending_theme  \n",
       "0  ['#1: \"Nirvana\" by MUCC (eps 1, 11-12)', '#2: ...  \n",
       "1  ['#1: \"Ashita e no Hikari (明日への光)\" by Asuka Hi...  \n",
       "2  ['#1: \"Rottara Rottara (ロッタラ ロッタラ)\" by Buono! ...  \n",
       "3  ['\"Watashi No Ai Wa Chiisaikeredo\" by Ritsuko ...  \n",
       "4  ['#1: \"Pride on Everyday\" by Sphere (eps 1-13)...  \n",
       "\n",
       "[5 rows x 31 columns]"
      ]
     },
     "execution_count": 3,
     "metadata": {},
     "output_type": "execute_result"
    }
   ],
   "source": [
    "mal_df.head()"
   ]
  },
  {
   "cell_type": "markdown",
   "metadata": {},
   "source": [
    "## Counting Genres and Plotting Distributions"
   ]
  },
  {
   "cell_type": "code",
   "execution_count": 6,
   "metadata": {},
   "outputs": [
    {
     "data": {
      "text/plain": [
       "0          Comedy, Supernatural, Romance, Shounen\n",
       "1        Comedy, Parody, Romance, School, Shounen\n",
       "2                   Comedy, Magic, School, Shoujo\n",
       "3          Comedy, Drama, Magic, Romance, Fantasy\n",
       "4                 Comedy, Drama, Romance, Shounen\n",
       "                           ...                   \n",
       "14473                                        Kids\n",
       "14474                                      Comedy\n",
       "14475          Action, Sci-Fi, Adventure, Fantasy\n",
       "14476                               Fantasy, Kids\n",
       "14477                                      Comedy\n",
       "Name: genre, Length: 14478, dtype: object"
      ]
     },
     "execution_count": 6,
     "metadata": {},
     "output_type": "execute_result"
    }
   ],
   "source": [
    "mal_df.loc[:,\"genre\"]"
   ]
  },
  {
   "cell_type": "code",
   "execution_count": 80,
   "metadata": {},
   "outputs": [],
   "source": [
    "genre_list = list(mal_df.loc[:,\"genre\"].dropna().values)\n",
    "genre_list = (\",\".join(genre_list))\n",
    "genre_list = genre_list.split(',')\n",
    "genre_list = [x.strip(' ') for x in genre_list]"
   ]
  },
  {
   "cell_type": "code",
   "execution_count": 83,
   "metadata": {},
   "outputs": [],
   "source": [
    "genre_list = pd.DataFrame(genre_list)"
   ]
  },
  {
   "cell_type": "code",
   "execution_count": 87,
   "metadata": {},
   "outputs": [],
   "source": [
    "genre_count = genre_list.value_counts()"
   ]
  },
  {
   "cell_type": "code",
   "execution_count": 93,
   "metadata": {},
   "outputs": [],
   "source": [
    "top_ten = genre_count[0:10]"
   ]
  },
  {
   "cell_type": "code",
   "execution_count": 97,
   "metadata": {},
   "outputs": [
    {
     "data": {
      "text/plain": [
       "<AxesSubplot:ylabel='None'>"
      ]
     },
     "execution_count": 97,
     "metadata": {},
     "output_type": "execute_result"
    },
    {
     "data": {
      "image/png": "[encoded data removed]",
      "text/plain": [
       "<Figure size 432x288 with 1 Axes>"
      ]
     },
     "metadata": {},
     "output_type": "display_data"
    }
   ],
   "source": [
    "top_ten.plot.pie(autopct='%1.1f%%')"
   ]
  },
  {
   "cell_type": "markdown",
   "metadata": {},
   "source": [
    "## Cleaning and removing columns for popularity prediction"
   ]
  },
  {
   "cell_type": "code",
   "execution_count": 99,
   "metadata": {},
   "outputs": [],
   "source": [
    "mal_df = mal_df.drop([\"image_url\", \"background\", \"broadcast\", \"opening_theme\", \"ending_theme\"], axis=1)"
   ]
  },
  {
   "cell_type": "code",
   "execution_count": null,
   "metadata": {},
   "outputs": [],
   "source": []
  },
  {
   "cell_type": "code",
   "execution_count": null,
   "metadata": {},
   "outputs": [],
   "source": []
  }
 ],
 "metadata": {
  "kernelspec": {
   "display_name": "Python 3",
   "language": "python",
   "name": "python3"
  },
  "language_info": {
   "codemirror_mode": {
    "name": "ipython",
    "version": 3
   },
   "file_extension": ".py",
   "mimetype": "text/x-python",
   "name": "python",
   "nbconvert_exporter": "python",
   "pygments_lexer": "ipython3",
   "version": "3.9.0"
  }
 },
 "nbformat": 4,
 "nbformat_minor": 4
}
