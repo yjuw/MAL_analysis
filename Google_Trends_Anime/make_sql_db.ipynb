{
 "cells": [
  {
   "cell_type": "code",
   "execution_count": 2,
   "metadata": {},
   "outputs": [],
   "source": [
    "import psycopg2\n",
    "from psycopg2 import OperationalError\n",
    "from psycopg2.extensions import register_adapter, AsIs\n",
    "import numpy as np\n",
    "psycopg2.extensions.register_adapter(np.int64, psycopg2._psycopg.AsIs)\n",
    "psycopg2.extensions.register_adapter(np.bool_, psycopg2._psycopg.AsIs)\n",
    "import json\n",
    "import pandas as pd\n",
    "#import math"
   ]
  },
  {
   "cell_type": "code",
   "execution_count": 3,
   "metadata": {},
   "outputs": [],
   "source": [
    "#get credentials\n",
    "with open(\"postgre_credentials.json\") as file:\n",
    "    data = json.load(file)"
   ]
  },
  {
   "cell_type": "code",
   "execution_count": 4,
   "metadata": {},
   "outputs": [],
   "source": [
    "def reset_connection():\n",
    "    if 'connection' not in locals():\n",
    "        connection = psycopg2.connect(\n",
    "        database = data[\"db_name\"], \n",
    "        user = data[\"db_user\"],\n",
    "        password = data[\"db_password\"],\n",
    "        host = data[\"db_host\"],\n",
    "        port = data[\"db_port\"]\n",
    "        )\n",
    "        cur = connection.cursor()\n",
    "        return connection,cur;\n",
    "    else:\n",
    "        connection.close()\n",
    "        connection = psycopg2.connect(\n",
    "        database = data[\"db_name\"], \n",
    "        user = data[\"db_user\"],\n",
    "        password = data[\"db_password\"],\n",
    "        host = data[\"db_host\"],\n",
    "        port = data[\"db_port\"]\n",
    "        )\n",
    "        cur = connection.cursor()\n",
    "        return connection, cur;"
   ]
  },
  {
   "cell_type": "code",
   "execution_count": 5,
   "metadata": {},
   "outputs": [],
   "source": [
    "connection, cur = reset_connection()"
   ]
  },
  {
   "cell_type": "code",
   "execution_count": 5,
   "metadata": {},
   "outputs": [],
   "source": [
    "#cur = connection.cursor()"
   ]
  },
  {
   "cell_type": "code",
   "execution_count": 6,
   "metadata": {},
   "outputs": [],
   "source": [
    "query = \"DROP TABLE IF EXISTS anime CASCADE\"\n",
    "cur.execute(query)\n",
    "connection.commit()"
   ]
  },
  {
   "cell_type": "code",
   "execution_count": 6,
   "metadata": {},
   "outputs": [],
   "source": [
    "query=\"DROP TABLE IF EXISTS google_trends CASCADE\"\n",
    "cur.execute(query)\n",
    "connection.commit()"
   ]
  },
  {
   "cell_type": "code",
   "execution_count": 8,
   "metadata": {},
   "outputs": [],
   "source": [
    "query=\"DROP TABLE IF EXISTS show_name CASCADE\"\n",
    "cur.execute(query)\n",
    "connection.commit()"
   ]
  },
  {
   "cell_type": "code",
   "execution_count": 9,
   "metadata": {},
   "outputs": [],
   "source": [
    "query=\"DROP TABLE IF EXISTS date CASCADE\"\n",
    "cur.execute(query)\n",
    "connection.commit()"
   ]
  },
  {
   "cell_type": "code",
   "execution_count": 10,
   "metadata": {},
   "outputs": [],
   "source": [
    "query=\"\"\"CREATE TABLE IF NOT EXISTS anime (\n",
    "anime_id INTEGER PRIMARY KEY,\n",
    "eng_name TEXT,\n",
    "type TEXT,\n",
    "source TEXT,\n",
    "episode_count INTEGER,\n",
    "maturity_rating TEXT,\n",
    "MAL_score DECIMAL,\n",
    "scored_count INTEGER,\n",
    "MAL_rank INTEGER,\n",
    "MAL_popularity INTEGER,\n",
    "favorite_count INTEGER,\n",
    "studio_name TEXT,\n",
    "licensor TEXT,\n",
    "air_status TEXT,\n",
    "is_airing BOOLEAN,\n",
    "year INTEGER,\n",
    "season TEXT\n",
    ")\n",
    "\"\"\""
   ]
  },
  {
   "cell_type": "code",
   "execution_count": 11,
   "metadata": {},
   "outputs": [],
   "source": [
    "cur.execute(query)\n"
   ]
  },
  {
   "cell_type": "code",
   "execution_count": 12,
   "metadata": {},
   "outputs": [],
   "source": [
    "connection.commit()"
   ]
  },
  {
   "cell_type": "code",
   "execution_count": 13,
   "metadata": {},
   "outputs": [],
   "source": [
    "query=\"\"\"CREATE TABLE IF NOT EXISTS date (\n",
    "date_id SERIAL PRIMARY KEY,\n",
    "year INTEGER,\n",
    "month INTEGER\n",
    ")\n",
    "\"\"\"\n",
    "cur.execute(query)\n",
    "connection.commit()"
   ]
  },
  {
   "cell_type": "code",
   "execution_count": 14,
   "metadata": {},
   "outputs": [],
   "source": [
    "query=\"\"\"CREATE TABLE IF NOT EXISTS show_name (\n",
    "show_name_id SERIAL PRIMARY KEY,\n",
    "alternate_name TEXT,\n",
    "anime_id INTEGER REFERENCES anime (anime_id)\n",
    ")\n",
    "\"\"\"\n",
    "cur.execute(query)\n",
    "connection.commit()"
   ]
  },
  {
   "cell_type": "code",
   "execution_count": 15,
   "metadata": {},
   "outputs": [],
   "source": [
    "query=\"\"\"CREATE TABLE IF NOT EXISTS genre (\n",
    "genre_id SERIAL PRIMARY KEY,\n",
    "genre_name TEXT,\n",
    "anime_id INTEGER REFERENCES anime (anime_id)\n",
    ")\n",
    "\"\"\"\n",
    "cur.execute(query)\n",
    "connection.commit()"
   ]
  },
  {
   "cell_type": "code",
   "execution_count": 7,
   "metadata": {},
   "outputs": [],
   "source": [
    "query=\"\"\"CREATE TABLE IF NOT EXISTS google_trends (\n",
    "google_trends_id SERIAL PRIMARY KEY,\n",
    "show_name INTEGER REFERENCES show_name(show_name_id),\n",
    "date INTEGER REFERENCES date(date_id),\n",
    "popularity_score INT\n",
    ")\n",
    "\"\"\"\n",
    "cur.execute(query)\n",
    "connection.commit()"
   ]
  },
  {
   "cell_type": "code",
   "execution_count": 17,
   "metadata": {},
   "outputs": [],
   "source": [
    "#Loop through MAL csv file\n",
    "#insert into anime table first\n",
    "#split alternative names and loop to insert each show name\n",
    "#split through genres and insert each genre"
   ]
  },
  {
   "cell_type": "code",
   "execution_count": 8,
   "metadata": {},
   "outputs": [],
   "source": [
    "def split_column(row, col):\n",
    "    row_attributes = mal_df.loc[row,col]\n",
    "    split_row = row_attributes.replace(\" \", \"\").split(\",\")\n",
    "    return split_row"
   ]
  },
  {
   "cell_type": "code",
   "execution_count": 9,
   "metadata": {},
   "outputs": [],
   "source": [
    "def insert_genre(split_row, anime_id):\n",
    "    if len(split_row)>0:\n",
    "        for genre in split_row:\n",
    "            cur.execute(\"\"\"INSERT INTO genre(genre_name, anime_id)\n",
    "            VALUES (%s,%s)\"\"\",\n",
    "            (genre, anime_id))\n",
    "            connection.commit()"
   ]
  },
  {
   "cell_type": "code",
   "execution_count": 10,
   "metadata": {},
   "outputs": [],
   "source": [
    "def insert_alt_name(split_row, anime_id):\n",
    "    if len(split_row)>0:\n",
    "        #print(split_row)\n",
    "        for name in split_row:\n",
    "            if name != \"NA\":\n",
    "                cur.execute(\"\"\"INSERT INTO show_name(alternate_name, anime_id)\n",
    "                VALUES (%s,%s)\"\"\",\n",
    "                (name, anime_id))\n",
    "                connection.commit()"
   ]
  },
  {
   "cell_type": "code",
   "execution_count": 11,
   "metadata": {},
   "outputs": [],
   "source": [
    "def insert_anime_info(row):\n",
    "    try:\n",
    "        time = row[\"premiered\"].split(\" \")\n",
    "        if time[0] != \"Not\" and len(time)==3 and \"\" not in time:\n",
    "            year = time[1]\n",
    "            season = time[0]\n",
    "\n",
    "            cur.execute(\"\"\"INSERT INTO anime(anime_id, eng_name, type, source,episode_count,\n",
    "                        maturity_rating, MAL_score, scored_count, MAL_rank, MAL_popularity,\n",
    "                        favorite_count, studio_name, licensor, air_status, is_airing, year, season)\n",
    "                        VALUES (%s, %s, %s,%s,%s,%s,%s,%s,%s,%s,%s,%s,%s,%s,%s,%s,%s)\"\"\",\n",
    "                       (row[\"anime_id\"],row[\"title_english\"],row[\"type\"], row[\"source\"], row[\"episodes\"],\n",
    "                       row[\"rating\"], row[\"score\"], row[\"scored_by\"], row[\"rank\"], row[\"popularity\"],\n",
    "                       row[\"favorites\"], row[\"studio\"], row[\"licensor\"], row[\"status\"], row[\"airing\"],\n",
    "                       year, season))\n",
    "            connection.commit()\n",
    "        \n",
    "    except: \n",
    "        time = row[\"aired_string\"].split(\"to\")[0].split(\" \")\n",
    "        if time[0] != \"Not\" and len(time)==3 and \"\" not in time:\n",
    "            #print(time)\n",
    "            year = int(time[2])\n",
    "            season = seasons[time[0]]\n",
    "            cur.execute(\"\"\"INSERT INTO anime(anime_id, eng_name, type, source,episode_count,\n",
    "                        maturity_rating, MAL_score, scored_count, MAL_rank, MAL_popularity,\n",
    "                        favorite_count, studio_name, licensor, air_status, is_airing, year, season)\n",
    "                        VALUES (%s, %s, %s,%s,%s,%s,%s,%s,%s,%s,%s,%s,%s,%s,%s,%s,%s)\"\"\",\n",
    "                       (row[\"anime_id\"],row[\"title_english\"],row[\"type\"], row[\"source\"], row[\"episodes\"],\n",
    "                       row[\"rating\"], row[\"score\"], row[\"scored_by\"], row[\"rank\"], row[\"popularity\"],\n",
    "                       row[\"favorites\"], row[\"studio\"], row[\"licensor\"], row[\"status\"], row[\"airing\"],\n",
    "                       year, season))\n",
    "            connection.commit()\n",
    "\n",
    "        \n",
    "\n",
    "    \n"
   ]
  },
  {
   "cell_type": "code",
   "execution_count": 12,
   "metadata": {},
   "outputs": [],
   "source": [
    "def insert_date(month_year):\n",
    "    try:\n",
    "        #print(month_year)\n",
    "        month = month_year[1]\n",
    "        year = month_year[0]\n",
    "        cur.execute(\"\"\"INSERT INTO date(year, month) \n",
    "        VALUES (%s, %s)\"\"\",\n",
    "                   (year,month))\n",
    "        connection.commit()\n",
    "    except:\n",
    "        print(month,year)"
   ]
  },
  {
   "cell_type": "code",
   "execution_count": 13,
   "metadata": {},
   "outputs": [],
   "source": [
    "#test with 1 anime\n",
    "with open(\"Anime_List_Path.txt\") as file:\n",
    "    path = file.read()\n",
    "\n",
    "mal_df = pd.read_csv(path)"
   ]
  },
  {
   "cell_type": "code",
   "execution_count": 14,
   "metadata": {},
   "outputs": [],
   "source": [
    "#mal_df.head()\n",
    "mal_df.loc[:,\"producer\"] = mal_df.loc[:,\"producer\"].fillna(\"NA\")\n",
    "mal_df.loc[:,\"licensor\"] = mal_df.loc[:,\"licensor\"].fillna(\"NA\")\n",
    "mal_df.loc[:,\"title_english\"] = mal_df.loc[:,\"title_english\"].fillna(\"NA\")\n",
    "mal_df.loc[:,\"rank\"] = mal_df.loc[:,\"rank\"].fillna(0)\n",
    "mal_df.loc[:,\"genre\"] = mal_df.loc[:,\"genre\"].fillna(\"NA\")\n",
    "mal_df.loc[:,\"title_synonyms\"] = mal_df.loc[:,\"title_synonyms\"].fillna(\"NA\")\n",
    "mal_df.loc[:,\"title_japanese\"] = mal_df.loc[:,\"title_japanese\"].fillna(\"NA\")"
   ]
  },
  {
   "cell_type": "code",
   "execution_count": null,
   "metadata": {},
   "outputs": [],
   "source": []
  },
  {
   "cell_type": "code",
   "execution_count": 15,
   "metadata": {},
   "outputs": [],
   "source": [
    "seasons = {\"Jan\":\"Winter\",\n",
    "          \"Feb\": \"Winter\",\n",
    "          \"Mar\": \"Spring\",\n",
    "          \"Apr\": \"Spring\",\n",
    "          \"May\": \"Spring\",\n",
    "          \"Jun\": \"Summer\",\n",
    "          \"Jul\": \"Summer\",\n",
    "          \"Aug\": \"Summer\",\n",
    "          \"Sep\": \"Fall\",\n",
    "          \"Oct\": \"Fall\",\n",
    "          \"Nov\": \"Fall\",\n",
    "          \"Dec\": \"Winter\"}"
   ]
  },
  {
   "cell_type": "markdown",
   "metadata": {},
   "source": [
    "## Insert MAL info (Except Alternate Names and Genre)"
   ]
  },
  {
   "cell_type": "code",
   "execution_count": 26,
   "metadata": {},
   "outputs": [],
   "source": [
    "#insert_anime_info(mal_df.iloc[0])\n",
    "for idx,row in mal_df.iterrows():\n",
    "    insert_anime_info(mal_df.iloc[idx])"
   ]
  },
  {
   "cell_type": "markdown",
   "metadata": {},
   "source": [
    "## Insert Genres"
   ]
  },
  {
   "cell_type": "code",
   "execution_count": 27,
   "metadata": {},
   "outputs": [],
   "source": [
    "#mal_df.loc[:,\"anime_id\"]"
   ]
  },
  {
   "cell_type": "code",
   "execution_count": 28,
   "metadata": {},
   "outputs": [],
   "source": [
    "#testing\n",
    "for idx, row in mal_df.iterrows():\n",
    "    split_genres = split_column(idx, \"genre\")\n",
    "    insert_genre(split_genres, mal_df.loc[idx,\"anime_id\"])"
   ]
  },
  {
   "cell_type": "markdown",
   "metadata": {},
   "source": [
    "## Insert Alternate Names"
   ]
  },
  {
   "cell_type": "code",
   "execution_count": 29,
   "metadata": {},
   "outputs": [],
   "source": [
    "# mal_df.columns\n",
    "# print(mal_df.loc[0,\"title_synonyms\"])\n",
    "# print(mal_df.loc[0,\"title_japanese\"])"
   ]
  },
  {
   "cell_type": "code",
   "execution_count": 2,
   "metadata": {},
   "outputs": [
    {
     "ename": "NameError",
     "evalue": "name 'reset_connection' is not defined",
     "output_type": "error",
     "traceback": [
      "\u001b[0;31m---------------------------------------------------------------------------\u001b[0m",
      "\u001b[0;31mNameError\u001b[0m                                 Traceback (most recent call last)",
      "\u001b[0;32m<ipython-input-2-b6c21441de0a>\u001b[0m in \u001b[0;36m<module>\u001b[0;34m\u001b[0m\n\u001b[0;32m----> 1\u001b[0;31m \u001b[0mconnection\u001b[0m\u001b[0;34m,\u001b[0m \u001b[0mcur\u001b[0m \u001b[0;34m=\u001b[0m \u001b[0mreset_connection\u001b[0m\u001b[0;34m(\u001b[0m\u001b[0;34m)\u001b[0m\u001b[0;34m\u001b[0m\u001b[0;34m\u001b[0m\u001b[0m\n\u001b[0m",
      "\u001b[0;31mNameError\u001b[0m: name 'reset_connection' is not defined"
     ]
    }
   ],
   "source": [
    "connection, cur = reset_connection()"
   ]
  },
  {
   "cell_type": "code",
   "execution_count": null,
   "metadata": {},
   "outputs": [],
   "source": [
    "for idx, row in mal_df.iterrows():\n",
    "    try:\n",
    "        alt_names = split_column(idx, \"title_synonyms\")\n",
    "        japanese_names = split_column(idx,\"title_japanese\")\n",
    "        eng_name = [mal_df.loc[idx,\"title_english\"]]\n",
    "        all_names = eng_name + alt_names + japanese_names\n",
    "        insert_alt_name(all_names, mal_df.loc[idx,\"anime_id\"])\n",
    "    except:\n",
    "        connection,cur = reset_connection()\n",
    "        continue\n"
   ]
  },
  {
   "cell_type": "markdown",
   "metadata": {},
   "source": [
    "## Insert Dates"
   ]
  },
  {
   "cell_type": "code",
   "execution_count": 32,
   "metadata": {},
   "outputs": [],
   "source": [
    "#https://stackoverflow.com/questions/5734438/how-to-create-a-month-iterator\n",
    "def month_year_iter( start_month, start_year, end_month, end_year ):\n",
    "    ym_start= 12*start_year + start_month - 1\n",
    "    ym_end= 12*end_year + end_month - 1\n",
    "    for ym in range( ym_start, ym_end ):\n",
    "        y, m = divmod( ym, 12 )\n",
    "        yield y, m+1\n",
    "\n",
    "date_generator = month_year_iter(1,2004,1,2021)\n"
   ]
  },
  {
   "cell_type": "code",
   "execution_count": 33,
   "metadata": {},
   "outputs": [],
   "source": [
    "for date in range(204):\n",
    "    insert_date(next(date_generator))"
   ]
  },
  {
   "cell_type": "code",
   "execution_count": 29,
   "metadata": {},
   "outputs": [],
   "source": [
    "connection.close()"
   ]
  },
  {
   "cell_type": "code",
   "execution_count": null,
   "metadata": {},
   "outputs": [],
   "source": []
  }
 ],
 "metadata": {
  "kernelspec": {
   "display_name": "Python 3",
   "language": "python",
   "name": "python3"
  },
  "language_info": {
   "codemirror_mode": {
    "name": "ipython",
    "version": 3
   },
   "file_extension": ".py",
   "mimetype": "text/x-python",
   "name": "python",
   "nbconvert_exporter": "python",
   "pygments_lexer": "ipython3",
   "version": "3.9.1"
  }
 },
 "nbformat": 4,
 "nbformat_minor": 4
}
