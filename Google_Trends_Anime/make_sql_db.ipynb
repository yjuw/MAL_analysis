{
 "cells": [
  {
   "cell_type": "code",
   "execution_count": 485,
   "metadata": {},
   "outputs": [],
   "source": [
    "import psycopg2\n",
    "from psycopg2 import OperationalError\n",
    "from psycopg2.extensions import register_adapter, AsIs\n",
    "import numpy as np\n",
    "psycopg2.extensions.register_adapter(np.int64, psycopg2._psycopg.AsIs)\n",
    "psycopg2.extensions.register_adapter(np.bool_, psycopg2._psycopg.AsIs)\n",
    "import json\n",
    "import pandas as pd"
   ]
  },
  {
   "cell_type": "code",
   "execution_count": 486,
   "metadata": {},
   "outputs": [],
   "source": [
    "#get credentials\n",
    "with open(\"postgre_credentials.json\") as file:\n",
    "    data = json.load(file)"
   ]
  },
  {
   "cell_type": "code",
   "execution_count": null,
   "metadata": {},
   "outputs": [],
   "source": []
  },
  {
   "cell_type": "code",
   "execution_count": 487,
   "metadata": {},
   "outputs": [],
   "source": [
    "#template\n",
    "connection = psycopg2.connect(\n",
    "    database = data[\"db_name\"], \n",
    "    user = data[\"db_user\"],\n",
    "    password = data[\"db_password\"],\n",
    "    host = data[\"db_host\"],\n",
    "    port = data[\"db_port\"]\n",
    ")\n"
   ]
  },
  {
   "cell_type": "code",
   "execution_count": 488,
   "metadata": {},
   "outputs": [],
   "source": [
    "cur = connection.cursor()"
   ]
  },
  {
   "cell_type": "code",
   "execution_count": 489,
   "metadata": {},
   "outputs": [],
   "source": [
    "query = \"DROP TABLE anime CASCADE\"\n",
    "cur.execute(query)\n",
    "connection.commit()"
   ]
  },
  {
   "cell_type": "code",
   "execution_count": 490,
   "metadata": {},
   "outputs": [],
   "source": [
    "query=\"\"\"CREATE TABLE IF NOT EXISTS anime (\n",
    "anime_id INTEGER PRIMARY KEY,\n",
    "eng_name TEXT,\n",
    "type TEXT,\n",
    "source TEXT,\n",
    "episode_count INTEGER,\n",
    "maturity_rating TEXT,\n",
    "MAL_score DECIMAL,\n",
    "scored_count INTEGER,\n",
    "MAL_rank INTEGER,\n",
    "MAL_popularity INTEGER,\n",
    "favorite_count INTEGER,\n",
    "studio_name TEXT,\n",
    "licensor TEXT,\n",
    "air_status TEXT,\n",
    "is_airing BOOLEAN,\n",
    "year INTEGER,\n",
    "season TEXT\n",
    ")\n",
    "\"\"\""
   ]
  },
  {
   "cell_type": "code",
   "execution_count": 491,
   "metadata": {},
   "outputs": [],
   "source": [
    "cur.execute(query)\n"
   ]
  },
  {
   "cell_type": "code",
   "execution_count": 492,
   "metadata": {},
   "outputs": [],
   "source": [
    "connection.commit()"
   ]
  },
  {
   "cell_type": "code",
   "execution_count": 493,
   "metadata": {},
   "outputs": [],
   "source": [
    "query=\"\"\"CREATE TABLE IF NOT EXISTS date (\n",
    "date_id SERIAL PRIMARY KEY,\n",
    "year INTEGER,\n",
    "month INTEGER,\n",
    "day INTEGER\n",
    ")\n",
    "\"\"\"\n",
    "cur.execute(query)\n",
    "connection.commit()"
   ]
  },
  {
   "cell_type": "code",
   "execution_count": 494,
   "metadata": {},
   "outputs": [],
   "source": [
    "query=\"\"\"CREATE TABLE IF NOT EXISTS show_name (\n",
    "alternate_name TEXT PRIMARY KEY,\n",
    "anime_id TEXT REFERENCES anime (anime_id)\n",
    ")\n",
    "\"\"\"\n",
    "cur.execute(query)\n",
    "connection.commit()"
   ]
  },
  {
   "cell_type": "code",
   "execution_count": 495,
   "metadata": {},
   "outputs": [],
   "source": [
    "query=\"\"\"CREATE TABLE IF NOT EXISTS genre (\n",
    "genre_id SERIAL PRIMARY KEY,\n",
    "genre_name TEXT,\n",
    "anime_id INTEGER REFERENCES anime (anime_id)\n",
    ")\n",
    "\"\"\"\n",
    "cur.execute(query)\n",
    "connection.commit()"
   ]
  },
  {
   "cell_type": "code",
   "execution_count": 496,
   "metadata": {},
   "outputs": [],
   "source": [
    "query=\"\"\"CREATE TABLE IF NOT EXISTS google_trends (\n",
    "google_trends_id SERIAL PRIMARY KEY,\n",
    "show_name TEXT REFERENCES show_name(alternate_name),\n",
    "date INTEGER REFERENCES date(date_id),\n",
    "popularity_score INT\n",
    ")\n",
    "\"\"\"\n",
    "cur.execute(query)\n",
    "connection.commit()"
   ]
  },
  {
   "cell_type": "code",
   "execution_count": 497,
   "metadata": {},
   "outputs": [],
   "source": [
    "#Loop through MAL csv file\n",
    "#insert into anime table first\n",
    "#split alternative names and loop to insert each show name\n",
    "#split through genres and insert each genre"
   ]
  },
  {
   "cell_type": "code",
   "execution_count": 498,
   "metadata": {},
   "outputs": [],
   "source": [
    "def split_column(row, col):\n",
    "    row_attributes = mal_df.loc[row,col]\n",
    "    split_row = row_attributes.replace(\" \", \"\").split(\",\")\n",
    "    return split_row"
   ]
  },
  {
   "cell_type": "code",
   "execution_count": 499,
   "metadata": {},
   "outputs": [],
   "source": [
    "def insert_genre(split_row, anime_id):\n",
    "    for genre in split_row:\n",
    "        cur.execute(\"\"\"INSERT INTO genre(genre_id, genre_name, anime_id)\n",
    "        VALUES (%s,%s)\"\"\",\n",
    "        (genre, anime_id))\n",
    "        connection.commit()"
   ]
  },
  {
   "cell_type": "code",
   "execution_count": 500,
   "metadata": {},
   "outputs": [],
   "source": [
    "def insert_anime_info(row):\n",
    "    try:\n",
    "        time = row[\"premiered\"].split(\" \")\n",
    "        year = time[1]\n",
    "        season = time[0]\n",
    "        #print(year, season)\n",
    "        cur.execute(\"\"\"INSERT INTO anime(anime_id, eng_name, type, source,episode_count,\n",
    "                    maturity_rating, MAL_score, scored_count, MAL_rank, MAL_popularity,\n",
    "                    favorite_count, studio_name, licensor, air_status, is_airing, year, season)\n",
    "                    VALUES (%s, %s, %s,%s,%s,%s,%s,%s,%s,%s,%s,%s,%s,%s,%s,%s,%s)\"\"\",\n",
    "                   (row[\"anime_id\"],row[\"title_english\"],row[\"type\"], row[\"source\"], row[\"episodes\"],\n",
    "                   row[\"rating\"], row[\"score\"], row[\"scored_by\"], row[\"rank\"], row[\"popularity\"],\n",
    "                   row[\"favorites\"], row[\"studio\"], row[\"licensor\"], row[\"status\"], row[\"airing\"],\n",
    "                   year, season))\n",
    "        connection.commit()\n",
    "    except: \n",
    "        time = row[\"aired_string\"].split(\"to\")[0].split(\" \")\n",
    "        year = int(time[2])\n",
    "        season = seasons[time[0]]\n",
    "        cur.execute(\"\"\"INSERT INTO anime(anime_id, eng_name, type, source,episode_count,\n",
    "                    maturity_rating, MAL_score, scored_count, MAL_rank, MAL_popularity,\n",
    "                    favorite_count, studio_name, licensor, air_status, is_airing, year, season)\n",
    "                    VALUES (%s, %s, %s,%s,%s,%s,%s,%s,%s,%s,%s,%s,%s,%s,%s,%s,%s)\"\"\",\n",
    "                   (row[\"anime_id\"],row[\"title_english\"],row[\"type\"], row[\"source\"], row[\"episodes\"],\n",
    "                   row[\"rating\"], row[\"score\"], row[\"scored_by\"], row[\"rank\"], row[\"popularity\"],\n",
    "                   row[\"favorites\"], row[\"studio\"], row[\"licensor\"], row[\"status\"], row[\"airing\"],\n",
    "                   year, season))\n",
    "        connection.commit()\n",
    "        \n",
    "\n",
    "    \n"
   ]
  },
  {
   "cell_type": "code",
   "execution_count": 501,
   "metadata": {},
   "outputs": [],
   "source": [
    "#test with 1 anime\n",
    "with open(\"Anime_List_Path.txt\") as file:\n",
    "    path = file.read()\n",
    "    \n",
    "mal_df = pd.read_csv(path)"
   ]
  },
  {
   "cell_type": "code",
   "execution_count": 502,
   "metadata": {},
   "outputs": [],
   "source": [
    "seasons = {\"Jan\":\"Winter\",\n",
    "          \"Feb\": \"Winter\",\n",
    "          \"Mar\": \"Spring\",\n",
    "          \"Apr\": \"Spring\",\n",
    "          \"May\": \"Spring\",\n",
    "          \"Jun\": \"Summer\",\n",
    "          \"Jul\": \"Summer\",\n",
    "          \"Aug\": \"Summer\",\n",
    "          \"Sep\": \"Fall\",\n",
    "          \"Oct\": \"Fall\",\n",
    "          \"Nov\": \"Fall\",\n",
    "          \"Dec\": \"Winter\"}"
   ]
  },
  {
   "cell_type": "code",
   "execution_count": 503,
   "metadata": {},
   "outputs": [
    {
     "ename": "NumericValueOutOfRange",
     "evalue": "integer out of range\n",
     "output_type": "error",
     "traceback": [
      "\u001b[0;31m---------------------------------------------------------------------------\u001b[0m",
      "\u001b[0;31mAttributeError\u001b[0m                            Traceback (most recent call last)",
      "\u001b[0;32m<ipython-input-500-0affc4f7fc65>\u001b[0m in \u001b[0;36minsert_anime_info\u001b[0;34m(row)\u001b[0m\n\u001b[1;32m      2\u001b[0m     \u001b[0;32mtry\u001b[0m\u001b[0;34m:\u001b[0m\u001b[0;34m\u001b[0m\u001b[0;34m\u001b[0m\u001b[0m\n\u001b[0;32m----> 3\u001b[0;31m         \u001b[0mtime\u001b[0m \u001b[0;34m=\u001b[0m \u001b[0mrow\u001b[0m\u001b[0;34m[\u001b[0m\u001b[0;34m\"premiered\"\u001b[0m\u001b[0;34m]\u001b[0m\u001b[0;34m.\u001b[0m\u001b[0msplit\u001b[0m\u001b[0;34m(\u001b[0m\u001b[0;34m\" \"\u001b[0m\u001b[0;34m)\u001b[0m\u001b[0;34m\u001b[0m\u001b[0;34m\u001b[0m\u001b[0m\n\u001b[0m\u001b[1;32m      4\u001b[0m         \u001b[0myear\u001b[0m \u001b[0;34m=\u001b[0m \u001b[0mtime\u001b[0m\u001b[0;34m[\u001b[0m\u001b[0;36m1\u001b[0m\u001b[0;34m]\u001b[0m\u001b[0;34m\u001b[0m\u001b[0;34m\u001b[0m\u001b[0m\n",
      "\u001b[0;31mAttributeError\u001b[0m: 'float' object has no attribute 'split'",
      "\nDuring handling of the above exception, another exception occurred:\n",
      "\u001b[0;31mNumericValueOutOfRange\u001b[0m                    Traceback (most recent call last)",
      "\u001b[0;32m<ipython-input-503-85ba002e881a>\u001b[0m in \u001b[0;36m<module>\u001b[0;34m\u001b[0m\n\u001b[1;32m      2\u001b[0m \u001b[0;34m\u001b[0m\u001b[0m\n\u001b[1;32m      3\u001b[0m \u001b[0;32mfor\u001b[0m \u001b[0midx\u001b[0m\u001b[0;34m,\u001b[0m\u001b[0mrow\u001b[0m \u001b[0;32min\u001b[0m \u001b[0mmal_df\u001b[0m\u001b[0;34m.\u001b[0m\u001b[0miterrows\u001b[0m\u001b[0;34m(\u001b[0m\u001b[0;34m)\u001b[0m\u001b[0;34m:\u001b[0m\u001b[0;34m\u001b[0m\u001b[0;34m\u001b[0m\u001b[0m\n\u001b[0;32m----> 4\u001b[0;31m     \u001b[0minsert_anime_info\u001b[0m\u001b[0;34m(\u001b[0m\u001b[0mmal_df\u001b[0m\u001b[0;34m.\u001b[0m\u001b[0miloc\u001b[0m\u001b[0;34m[\u001b[0m\u001b[0midx\u001b[0m\u001b[0;34m]\u001b[0m\u001b[0;34m)\u001b[0m\u001b[0;34m\u001b[0m\u001b[0;34m\u001b[0m\u001b[0m\n\u001b[0m",
      "\u001b[0;32m<ipython-input-500-0affc4f7fc65>\u001b[0m in \u001b[0;36minsert_anime_info\u001b[0;34m(row)\u001b[0m\n\u001b[1;32m     18\u001b[0m         \u001b[0myear\u001b[0m \u001b[0;34m=\u001b[0m \u001b[0mint\u001b[0m\u001b[0;34m(\u001b[0m\u001b[0mtime\u001b[0m\u001b[0;34m[\u001b[0m\u001b[0;36m2\u001b[0m\u001b[0;34m]\u001b[0m\u001b[0;34m)\u001b[0m\u001b[0;34m\u001b[0m\u001b[0;34m\u001b[0m\u001b[0m\n\u001b[1;32m     19\u001b[0m         \u001b[0mseason\u001b[0m \u001b[0;34m=\u001b[0m \u001b[0mseasons\u001b[0m\u001b[0;34m[\u001b[0m\u001b[0mtime\u001b[0m\u001b[0;34m[\u001b[0m\u001b[0;36m0\u001b[0m\u001b[0;34m]\u001b[0m\u001b[0;34m]\u001b[0m\u001b[0;34m\u001b[0m\u001b[0;34m\u001b[0m\u001b[0m\n\u001b[0;32m---> 20\u001b[0;31m         cur.execute(\"\"\"INSERT INTO anime(anime_id, eng_name, type, source,episode_count,\n\u001b[0m\u001b[1;32m     21\u001b[0m                     \u001b[0mmaturity_rating\u001b[0m\u001b[0;34m,\u001b[0m \u001b[0mMAL_score\u001b[0m\u001b[0;34m,\u001b[0m \u001b[0mscored_count\u001b[0m\u001b[0;34m,\u001b[0m \u001b[0mMAL_rank\u001b[0m\u001b[0;34m,\u001b[0m \u001b[0mMAL_popularity\u001b[0m\u001b[0;34m,\u001b[0m\u001b[0;34m\u001b[0m\u001b[0;34m\u001b[0m\u001b[0m\n\u001b[1;32m     22\u001b[0m                     favorite_count, studio_name, licensor, air_status, is_airing, year, season)\n",
      "\u001b[0;31mNumericValueOutOfRange\u001b[0m: integer out of range\n"
     ]
    }
   ],
   "source": [
    "#insert_anime_info(mal_df.iloc[0])\n",
    "\n",
    "for idx,row in mal_df.iterrows():\n",
    "    insert_anime_info(mal_df.iloc[idx])"
   ]
  },
  {
   "cell_type": "code",
   "execution_count": 504,
   "metadata": {},
   "outputs": [
    {
     "data": {
      "text/plain": [
       "33185"
      ]
     },
     "execution_count": 504,
     "metadata": {},
     "output_type": "execute_result"
    }
   ],
   "source": [
    "mal_df.loc[55,\"anime_id\"]"
   ]
  },
  {
   "cell_type": "code",
   "execution_count": null,
   "metadata": {},
   "outputs": [],
   "source": []
  },
  {
   "cell_type": "code",
   "execution_count": 484,
   "metadata": {},
   "outputs": [],
   "source": [
    "connection.close()"
   ]
  },
  {
   "cell_type": "code",
   "execution_count": null,
   "metadata": {},
   "outputs": [],
   "source": []
  }
 ],
 "metadata": {
  "kernelspec": {
   "display_name": "Python 3",
   "language": "python",
   "name": "python3"
  },
  "language_info": {
   "codemirror_mode": {
    "name": "ipython",
    "version": 3
   },
   "file_extension": ".py",
   "mimetype": "text/x-python",
   "name": "python",
   "nbconvert_exporter": "python",
   "pygments_lexer": "ipython3",
   "version": "3.9.1"
  }
 },
 "nbformat": 4,
 "nbformat_minor": 4
}
