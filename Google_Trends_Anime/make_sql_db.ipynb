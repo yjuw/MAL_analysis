{
 "cells": [
  {
   "cell_type": "code",
   "execution_count": 127,
   "metadata": {},
   "outputs": [],
   "source": [
    "import psycopg2\n",
    "from psycopg2 import OperationalError\n",
    "import json"
   ]
  },
  {
   "cell_type": "code",
   "execution_count": 128,
   "metadata": {},
   "outputs": [],
   "source": [
    "#get credentials\n",
    "with open(\"postgre_credentials.json\") as file:\n",
    "    data = json.load(file)"
   ]
  },
  {
   "cell_type": "code",
   "execution_count": null,
   "metadata": {},
   "outputs": [],
   "source": []
  },
  {
   "cell_type": "code",
   "execution_count": 129,
   "metadata": {},
   "outputs": [],
   "source": [
    "#template\n",
    "connection = psycopg2.connect(\n",
    "    database = data[\"db_name\"], \n",
    "    user = data[\"db_user\"],\n",
    "    password = data[\"db_password\"],\n",
    "    host = data[\"db_host\"],\n",
    "    port = data[\"db_port\"]\n",
    ")\n"
   ]
  },
  {
   "cell_type": "code",
   "execution_count": 130,
   "metadata": {},
   "outputs": [],
   "source": [
    "cur = connection.cursor()"
   ]
  },
  {
   "cell_type": "code",
   "execution_count": 64,
   "metadata": {},
   "outputs": [],
   "source": [
    "query=\"\"\"CREATE TABLE IF NOT EXISTS anime (\n",
    "anime_id TEXT PRIMARY KEY,\n",
    "eng_name TEXT,\n",
    "type TEXT,\n",
    "source TEXT,\n",
    "episode_count INTEGER,\n",
    "maturity_rating TEXT,\n",
    "MAL_score DECIMAL,\n",
    "scored_count INTEGER,\n",
    "MAL_rank INTEGER,\n",
    "MAL_popularity INTEGER,\n",
    "favorite_count INTEGER,\n",
    "studio_name TEXT,\n",
    "licensor TEXT,\n",
    "air_status TEXT,\n",
    "is_airing BOOLEAN,\n",
    "year INTEGER,\n",
    "season TEXT\n",
    ")\n",
    "\"\"\""
   ]
  },
  {
   "cell_type": "code",
   "execution_count": 65,
   "metadata": {},
   "outputs": [],
   "source": [
    "cur.execute(query)\n"
   ]
  },
  {
   "cell_type": "code",
   "execution_count": 66,
   "metadata": {},
   "outputs": [],
   "source": [
    "connection.commit()"
   ]
  },
  {
   "cell_type": "code",
   "execution_count": 67,
   "metadata": {},
   "outputs": [],
   "source": [
    "query=\"\"\"CREATE TABLE IF NOT EXISTS date (\n",
    "date_id SERIAL PRIMARY KEY,\n",
    "year INTEGER,\n",
    "month INTEGER,\n",
    "day INTEGER\n",
    ")\n",
    "\"\"\"\n",
    "cur.execute(query)\n",
    "connection.commit()"
   ]
  },
  {
   "cell_type": "code",
   "execution_count": 111,
   "metadata": {},
   "outputs": [],
   "source": [
    "query=\"\"\"CREATE TABLE IF NOT EXISTS show_name (\n",
    "alternate_name TEXT PRIMARY KEY,\n",
    "anime_id TEXT REFERENCES anime (anime_id)\n",
    ")\n",
    "\"\"\"\n",
    "cur.execute(query)\n",
    "connection.commit()"
   ]
  },
  {
   "cell_type": "code",
   "execution_count": 124,
   "metadata": {},
   "outputs": [],
   "source": [
    "query=\"\"\"CREATE TABLE IF NOT EXISTS genre (\n",
    "genre_id SERIAL PRIMARY KEY,\n",
    "genre_name TEXT,\n",
    "anime_id TEXT REFERENCES anime (anime_id)\n",
    ")\n",
    "\"\"\"\n",
    "cur.execute(query)\n",
    "connection.commit()"
   ]
  },
  {
   "cell_type": "code",
   "execution_count": 134,
   "metadata": {},
   "outputs": [
    {
     "ename": "InFailedSqlTransaction",
     "evalue": "current transaction is aborted, commands ignored until end of transaction block\n",
     "output_type": "error",
     "traceback": [
      "\u001b[0;31m---------------------------------------------------------------------------\u001b[0m",
      "\u001b[0;31mInFailedSqlTransaction\u001b[0m                    Traceback (most recent call last)",
      "\u001b[0;32m<ipython-input-134-07732db9b891>\u001b[0m in \u001b[0;36m<module>\u001b[0;34m\u001b[0m\n\u001b[1;32m      6\u001b[0m )\n\u001b[1;32m      7\u001b[0m \"\"\"\n\u001b[0;32m----> 8\u001b[0;31m \u001b[0mcur\u001b[0m\u001b[0;34m.\u001b[0m\u001b[0mexecute\u001b[0m\u001b[0;34m(\u001b[0m\u001b[0mquery\u001b[0m\u001b[0;34m)\u001b[0m\u001b[0;34m\u001b[0m\u001b[0;34m\u001b[0m\u001b[0m\n\u001b[0m\u001b[1;32m      9\u001b[0m \u001b[0mconnection\u001b[0m\u001b[0;34m.\u001b[0m\u001b[0mcommit\u001b[0m\u001b[0;34m(\u001b[0m\u001b[0;34m)\u001b[0m\u001b[0;34m\u001b[0m\u001b[0;34m\u001b[0m\u001b[0m\n",
      "\u001b[0;31mInFailedSqlTransaction\u001b[0m: current transaction is aborted, commands ignored until end of transaction block\n"
     ]
    }
   ],
   "source": [
    "query=\"\"\"CREATE TABLE IF NOT EXISTS google_trends (\n",
    "google_trends_id SERIAL PRIMARY KEY,\n",
    "show_name TEXT REFERENCES show_name(alternate_name),\n",
    "date INTEGER REFERENCES date(date_id),\n",
    "popularity_score INT\n",
    ")\n",
    "\"\"\"\n",
    "cur.execute(query)\n",
    "connection.commit()"
   ]
  },
  {
   "cell_type": "code",
   "execution_count": 125,
   "metadata": {},
   "outputs": [],
   "source": [
    "connection.close()"
   ]
  },
  {
   "cell_type": "code",
   "execution_count": null,
   "metadata": {},
   "outputs": [],
   "source": []
  }
 ],
 "metadata": {
  "kernelspec": {
   "display_name": "Python 3",
   "language": "python",
   "name": "python3"
  },
  "language_info": {
   "codemirror_mode": {
    "name": "ipython",
    "version": 3
   },
   "file_extension": ".py",
   "mimetype": "text/x-python",
   "name": "python",
   "nbconvert_exporter": "python",
   "pygments_lexer": "ipython3",
   "version": "3.9.1"
  }
 },
 "nbformat": 4,
 "nbformat_minor": 4
}
