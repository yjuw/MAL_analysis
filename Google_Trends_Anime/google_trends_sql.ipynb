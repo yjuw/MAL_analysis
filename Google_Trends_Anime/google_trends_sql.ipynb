{
 "cells": [
  {
   "cell_type": "code",
   "execution_count": null,
   "metadata": {},
   "outputs": [],
   "source": [
    "import numpy as np\n",
    "import psycopg2\n",
    "from psycopg2 import OperationalError\n",
    "from psycopg2.extensions import register_adapter, AsIs\n",
    "psycopg2.extensions.register_adapter(np.int64, psycopg2._psycopg.AsIs)\n",
    "psycopg2.extensions.register_adapter(np.bool_, psycopg2._psycopg.AsIs)\n",
    "from pytrends.request import TrendReq\n",
    "from time import sleep\n",
    "import pandas as pd\n",
    "import json\n",
    "\n",
    "pytrends = TrendReq(hl='en-US', tz=360)"
   ]
  },
  {
   "cell_type": "code",
   "execution_count": null,
   "metadata": {},
   "outputs": [],
   "source": [
    "#get credentials\n",
    "with open(\"postgre_credentials.json\") as file:\n",
    "    data = json.load(file)"
   ]
  },
  {
   "cell_type": "code",
   "execution_count": null,
   "metadata": {},
   "outputs": [],
   "source": [
    "def reset_connection():\n",
    "    if 'connection' not in locals():\n",
    "        connection = psycopg2.connect(\n",
    "        database = data[\"db_name\"], \n",
    "        user = data[\"db_user\"],\n",
    "        password = data[\"db_password\"],\n",
    "        host = data[\"db_host\"],\n",
    "        port = data[\"db_port\"]\n",
    "        )\n",
    "        cur = connection.cursor()\n",
    "        return connection,cur;\n",
    "    else:\n",
    "        connection.close()\n",
    "        connection = psycopg2.connect(\n",
    "        database = data[\"db_name\"], \n",
    "        user = data[\"db_user\"],\n",
    "        password = data[\"db_password\"],\n",
    "        host = data[\"db_host\"],\n",
    "        port = data[\"db_port\"]\n",
    "        )\n",
    "        cur = connection.cursor()\n",
    "        return connection, cur;"
   ]
  },
  {
   "cell_type": "code",
   "execution_count": 1,
   "metadata": {},
   "outputs": [
    {
     "ename": "NameError",
     "evalue": "name 'reset_connection' is not defined",
     "output_type": "error",
     "traceback": [
      "\u001b[0;31m---------------------------------------------------------------------------\u001b[0m",
      "\u001b[0;31mNameError\u001b[0m                                 Traceback (most recent call last)",
      "\u001b[0;32m<ipython-input-1-b6c21441de0a>\u001b[0m in \u001b[0;36m<module>\u001b[0;34m\u001b[0m\n\u001b[0;32m----> 1\u001b[0;31m \u001b[0mconnection\u001b[0m\u001b[0;34m,\u001b[0m \u001b[0mcur\u001b[0m \u001b[0;34m=\u001b[0m \u001b[0mreset_connection\u001b[0m\u001b[0;34m(\u001b[0m\u001b[0;34m)\u001b[0m\u001b[0;34m\u001b[0m\u001b[0;34m\u001b[0m\u001b[0m\n\u001b[0m",
      "\u001b[0;31mNameError\u001b[0m: name 'reset_connection' is not defined"
     ]
    }
   ],
   "source": [
    "connection, cur = reset_connection()"
   ]
  },
  {
   "cell_type": "code",
   "execution_count": 2,
   "metadata": {},
   "outputs": [
    {
     "ename": "NameError",
     "evalue": "name 'cur' is not defined",
     "output_type": "error",
     "traceback": [
      "\u001b[0;31m---------------------------------------------------------------------------\u001b[0m",
      "\u001b[0;31mNameError\u001b[0m                                 Traceback (most recent call last)",
      "\u001b[0;32m<ipython-input-2-61058879f965>\u001b[0m in \u001b[0;36m<module>\u001b[0;34m\u001b[0m\n\u001b[1;32m      3\u001b[0m \u001b[0mWHERE\u001b[0m \u001b[0mair_status\u001b[0m \u001b[0mLIKE\u001b[0m \u001b[0;34m'Finished Airing'\u001b[0m\u001b[0;34m\u001b[0m\u001b[0;34m\u001b[0m\u001b[0m\n\u001b[1;32m      4\u001b[0m \"\"\"\n\u001b[0;32m----> 5\u001b[0;31m \u001b[0mcur\u001b[0m\u001b[0;34m.\u001b[0m\u001b[0mexecute\u001b[0m\u001b[0;34m(\u001b[0m\u001b[0mquery\u001b[0m\u001b[0;34m)\u001b[0m\u001b[0;34m\u001b[0m\u001b[0;34m\u001b[0m\u001b[0m\n\u001b[0m\u001b[1;32m      6\u001b[0m \u001b[0manime_ids\u001b[0m \u001b[0;34m=\u001b[0m \u001b[0mcur\u001b[0m\u001b[0;34m.\u001b[0m\u001b[0mfetchall\u001b[0m\u001b[0;34m(\u001b[0m\u001b[0;34m)\u001b[0m\u001b[0;34m\u001b[0m\u001b[0;34m\u001b[0m\u001b[0m\n",
      "\u001b[0;31mNameError\u001b[0m: name 'cur' is not defined"
     ]
    }
   ],
   "source": [
    "query=\"\"\"SELECT eng_name, alternate_name\n",
    "FROM anime join show_name ON anime.anime_id = show_name.anime_id\n",
    "WHERE air_status LIKE 'Finished Airing'\n",
    "\"\"\"\n",
    "cur.execute(query)\n",
    "anime_ids = cur.fetchall()"
   ]
  },
  {
   "cell_type": "code",
   "execution_count": 6,
   "metadata": {},
   "outputs": [],
   "source": [
    "#anime_ids"
   ]
  },
  {
   "cell_type": "code",
   "execution_count": 7,
   "metadata": {},
   "outputs": [],
   "source": [
    "#input country string - Example: 'US'\n",
    "#input show_tuple - tuple with eng_name as the first entry. May contain 'NA'\n",
    "#output - google trends_table is filled with show info with show_name attached\n",
    "def call_google_trends(country, show_tuple):    \n",
    "    try:\n",
    "        name = \"fill\"\n",
    "        for entry in show_tuple:\n",
    "            if entry != \"NA\":\n",
    "                name = entry\n",
    "                break       \n",
    "        if name!= \"fill\":\n",
    "            pytrends.build_payload(kw_list=[name],cat=0,timeframe='all', geo=country)\n",
    "            data = pytrends.interest_over_time()\n",
    "            #print(data)\n",
    "            if not data.empty:\n",
    "                data = data.drop(labels=['isPartial'],axis='columns')\n",
    "                return data\n",
    "        sleep(3)\n",
    "    except (RuntimeError):\n",
    "        sleep(3)\n",
    "        print(\"Invalid Name?\")\n",
    "        print(RuntimeError)"
   ]
  },
  {
   "cell_type": "code",
   "execution_count": 8,
   "metadata": {},
   "outputs": [],
   "source": [
    "def insert_pop_score(show_df):\n",
    "    #show_df.index = np.arange(1,205)\n",
    "    show_name = show_df.columns[0]\n",
    "    cur.execute(\"\"\"SELECT show_name_id\n",
    "                FROM show_name\n",
    "                WHERE alternate_name LIKE %s\"\"\",\n",
    "                (show_name,))\n",
    "    show_name_id = cur.fetchone()[0]\n",
    "    \n",
    "    #Does the show already exists in google_trends table?\n",
    "    cur.execute(\"\"\"SELECT show_name\n",
    "                FROM google_trends\n",
    "                WHERE show_name = %s\"\"\",(show_name_id,))\n",
    "    is_in_google_trends = cur.fetchone()\n",
    "\n",
    "    if is_in_google_trends is None:\n",
    "        #print(is_in_google_trends)\n",
    "        for row in show_df.iterrows():\n",
    "            popularity_score = row[1][0]\n",
    "            date_id = row[0]\n",
    "            cur.execute(\"\"\"INSERT INTO google_trends(show_name, date, popularity_score)\n",
    "                        VALUES (%s, %s, %s)\n",
    "                        \"\"\",(show_name_id, date_id, popularity_score))\n",
    "            connection.commit()\n",
    "    sleep(7)\n",
    "    \n",
    "\n",
    "\n",
    "\n"
   ]
  },
  {
   "cell_type": "code",
   "execution_count": 9,
   "metadata": {},
   "outputs": [],
   "source": [
    "\n",
    "anime_ids = [entry for entry in anime_ids if entry[0]!='NA']"
   ]
  },
  {
   "cell_type": "code",
   "execution_count": 10,
   "metadata": {},
   "outputs": [],
   "source": [
    "connection.close()\n",
    "connection, cur = reset_connection()"
   ]
  },
  {
   "cell_type": "code",
   "execution_count": 11,
   "metadata": {},
   "outputs": [],
   "source": [
    "#anime_df_test = call_google_trends('US', anime_ids[25])\n",
    "#anime_df_test.index = np.arange(1,205)\n",
    "# insert_pop_score(anime_df_test)"
   ]
  },
  {
   "cell_type": "code",
   "execution_count": null,
   "metadata": {},
   "outputs": [],
   "source": [
    "\n",
    "for anime in anime_ids:\n",
    "    try:\n",
    "        anime_df = call_google_trends('US',anime)\n",
    "        if anime_df is not None:\n",
    "            anime_df.index = np.arange(1,205)\n",
    "            insert_pop_score(anime_df)\n",
    "        connection.close()\n",
    "        connection, cur = reset_connection()\n",
    "    except Exception as e:\n",
    "        print(e)\n",
    "        continue\n",
    "connection.close()"
   ]
  },
  {
   "cell_type": "code",
   "execution_count": 230,
   "metadata": {},
   "outputs": [],
   "source": [
    "connection.close()"
   ]
  },
  {
   "cell_type": "code",
   "execution_count": null,
   "metadata": {},
   "outputs": [],
   "source": []
  }
 ],
 "metadata": {
  "kernelspec": {
   "display_name": "Python 3",
   "language": "python",
   "name": "python3"
  },
  "language_info": {
   "codemirror_mode": {
    "name": "ipython",
    "version": 3
   },
   "file_extension": ".py",
   "mimetype": "text/x-python",
   "name": "python",
   "nbconvert_exporter": "python",
   "pygments_lexer": "ipython3",
   "version": "3.9.1"
  }
 },
 "nbformat": 4,
 "nbformat_minor": 4
}
