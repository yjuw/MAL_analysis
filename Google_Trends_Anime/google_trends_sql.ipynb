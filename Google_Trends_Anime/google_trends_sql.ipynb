{
 "cells": [
  {
   "cell_type": "code",
   "execution_count": 90,
   "metadata": {},
   "outputs": [],
   "source": [
    "import numpy as np\n",
    "import psycopg2\n",
    "from psycopg2 import OperationalError\n",
    "from psycopg2.extensions import register_adapter, AsIs\n",
    "psycopg2.extensions.register_adapter(np.int64, psycopg2._psycopg.AsIs)\n",
    "psycopg2.extensions.register_adapter(np.bool_, psycopg2._psycopg.AsIs)\n",
    "from pytrends.request import TrendReq\n",
    "from time import sleep\n",
    "import pandas as pd\n",
    "import seaborn as sns\n",
    "import json\n",
    "\n",
    "pytrends = TrendReq(hl='en-US', tz=360)"
   ]
  },
  {
   "cell_type": "code",
   "execution_count": 91,
   "metadata": {},
   "outputs": [],
   "source": [
    "#get credentials\n",
    "with open(\"postgre_credentials.json\") as file:\n",
    "    data = json.load(file)"
   ]
  },
  {
   "cell_type": "code",
   "execution_count": 92,
   "metadata": {},
   "outputs": [],
   "source": [
    "def reset_connection():\n",
    "    if 'connection' not in locals():\n",
    "        connection = psycopg2.connect(\n",
    "        database = data[\"db_name\"], \n",
    "        user = data[\"db_user\"],\n",
    "        password = data[\"db_password\"],\n",
    "        host = data[\"db_host\"],\n",
    "        port = data[\"db_port\"]\n",
    "        )\n",
    "        cur = connection.cursor()\n",
    "        return connection,cur;\n",
    "    else:\n",
    "        connection.close()\n",
    "        connection = psycopg2.connect(\n",
    "        database = data[\"db_name\"], \n",
    "        user = data[\"db_user\"],\n",
    "        password = data[\"db_password\"],\n",
    "        host = data[\"db_host\"],\n",
    "        port = data[\"db_port\"]\n",
    "        )\n",
    "        cur = connection.cursor()\n",
    "        return connection, cur;"
   ]
  },
  {
   "cell_type": "code",
   "execution_count": 93,
   "metadata": {},
   "outputs": [],
   "source": [
    "connection, cur = reset_connection()"
   ]
  },
  {
   "cell_type": "code",
   "execution_count": 94,
   "metadata": {},
   "outputs": [],
   "source": [
    "query=\"\"\"SELECT eng_name, alternate_name\n",
    "FROM anime join show_name ON anime.anime_id = show_name.anime_id\n",
    "WHERE air_status LIKE 'Finished Airing'\n",
    "\"\"\"\n",
    "cur.execute(query)\n",
    "anime_ids = cur.fetchall()"
   ]
  },
  {
   "cell_type": "code",
   "execution_count": 96,
   "metadata": {},
   "outputs": [],
   "source": [
    "#anime_ids"
   ]
  },
  {
   "cell_type": "code",
   "execution_count": 97,
   "metadata": {},
   "outputs": [],
   "source": [
    "#input country string - Example: 'US'\n",
    "#input show_tuple - tuple with eng_name as the first entry. May contain 'NA'\n",
    "#output - google trends_table is filled with show info with show_name attached\n",
    "def call_google_trends(country, show_tuple):    \n",
    "    try:\n",
    "        name = \"fill\"\n",
    "        for entry in show_tuple:\n",
    "            if entry != \"NA\":\n",
    "                name = entry\n",
    "                break       \n",
    "        if name!= \"fill\":\n",
    "            pytrends.build_payload(kw_list=[name],cat=0,timeframe='all', geo=country)\n",
    "            data = pytrends.interest_over_time()\n",
    "            #print(data)\n",
    "            if not data.empty:\n",
    "                data = data.drop(labels=['isPartial'],axis='columns')\n",
    "                return data\n",
    "    except (RuntimeError):\n",
    "        print(\"Invalid Name?\")\n",
    "        print(RuntimeError)"
   ]
  },
  {
   "cell_type": "code",
   "execution_count": 98,
   "metadata": {},
   "outputs": [],
   "source": [
    "def insert_pop_score(show_df):\n",
    "    #NEED TO FIRST GET show_name_id through query, and then input\n",
    "#     for row in show_df.iterrows():\n",
    "#         popularity_score = row[1][0]\n",
    "#         date_id = row[1][1]\n",
    "#         show_name = YOU HAVE TO GET THIS IN THE QUERY\n",
    "#         cur.execute(\"\"\"INSERT INTO google_trends(show_name, date, popularity_score)\n",
    "#                     VALUES (%s, %s, %s)\n",
    "#                     \"\"\",(show_name, date_id, popularity_score))\n",
    "#    connection.commit()"
   ]
  },
  {
   "cell_type": "code",
   "execution_count": 124,
   "metadata": {},
   "outputs": [],
   "source": [
    "\n",
    "anime_ids = [entry for entry in anime_ids if entry[0]!='NA']"
   ]
  },
  {
   "cell_type": "code",
   "execution_count": 126,
   "metadata": {},
   "outputs": [
    {
     "data": {
      "text/plain": [
       "('Death Billiards', 'デス・ビリヤード')"
      ]
     },
     "execution_count": 126,
     "metadata": {},
     "output_type": "execute_result"
    }
   ],
   "source": [
    "anime_ids[16]"
   ]
  },
  {
   "cell_type": "code",
   "execution_count": 127,
   "metadata": {},
   "outputs": [],
   "source": [
    "test_df = call_google_trends('US', anime_ids[16])"
   ]
  },
  {
   "cell_type": "code",
   "execution_count": 128,
   "metadata": {},
   "outputs": [
    {
     "data": {
      "text/html": [
       "<div>\n",
       "<style scoped>\n",
       "    .dataframe tbody tr th:only-of-type {\n",
       "        vertical-align: middle;\n",
       "    }\n",
       "\n",
       "    .dataframe tbody tr th {\n",
       "        vertical-align: top;\n",
       "    }\n",
       "\n",
       "    .dataframe thead th {\n",
       "        text-align: right;\n",
       "    }\n",
       "</style>\n",
       "<table border=\"1\" class=\"dataframe\">\n",
       "  <thead>\n",
       "    <tr style=\"text-align: right;\">\n",
       "      <th></th>\n",
       "      <th>Death Billiards</th>\n",
       "    </tr>\n",
       "    <tr>\n",
       "      <th>date</th>\n",
       "      <th></th>\n",
       "    </tr>\n",
       "  </thead>\n",
       "  <tbody>\n",
       "    <tr>\n",
       "      <th>2004-01-01</th>\n",
       "      <td>0</td>\n",
       "    </tr>\n",
       "    <tr>\n",
       "      <th>2004-02-01</th>\n",
       "      <td>0</td>\n",
       "    </tr>\n",
       "    <tr>\n",
       "      <th>2004-03-01</th>\n",
       "      <td>0</td>\n",
       "    </tr>\n",
       "    <tr>\n",
       "      <th>2004-04-01</th>\n",
       "      <td>0</td>\n",
       "    </tr>\n",
       "    <tr>\n",
       "      <th>2004-05-01</th>\n",
       "      <td>0</td>\n",
       "    </tr>\n",
       "    <tr>\n",
       "      <th>...</th>\n",
       "      <td>...</td>\n",
       "    </tr>\n",
       "    <tr>\n",
       "      <th>2020-08-01</th>\n",
       "      <td>2</td>\n",
       "    </tr>\n",
       "    <tr>\n",
       "      <th>2020-09-01</th>\n",
       "      <td>2</td>\n",
       "    </tr>\n",
       "    <tr>\n",
       "      <th>2020-10-01</th>\n",
       "      <td>6</td>\n",
       "    </tr>\n",
       "    <tr>\n",
       "      <th>2020-11-01</th>\n",
       "      <td>0</td>\n",
       "    </tr>\n",
       "    <tr>\n",
       "      <th>2020-12-01</th>\n",
       "      <td>11</td>\n",
       "    </tr>\n",
       "  </tbody>\n",
       "</table>\n",
       "<p>204 rows × 1 columns</p>\n",
       "</div>"
      ],
      "text/plain": [
       "            Death Billiards\n",
       "date                       \n",
       "2004-01-01                0\n",
       "2004-02-01                0\n",
       "2004-03-01                0\n",
       "2004-04-01                0\n",
       "2004-05-01                0\n",
       "...                     ...\n",
       "2020-08-01                2\n",
       "2020-09-01                2\n",
       "2020-10-01                6\n",
       "2020-11-01                0\n",
       "2020-12-01               11\n",
       "\n",
       "[204 rows x 1 columns]"
      ]
     },
     "execution_count": 128,
     "metadata": {},
     "output_type": "execute_result"
    }
   ],
   "source": [
    "insert_pop_score(test_df)"
   ]
  },
  {
   "cell_type": "code",
   "execution_count": 129,
   "metadata": {},
   "outputs": [],
   "source": [
    "connection.close()"
   ]
  },
  {
   "cell_type": "code",
   "execution_count": null,
   "metadata": {},
   "outputs": [],
   "source": []
  }
 ],
 "metadata": {
  "kernelspec": {
   "display_name": "Python 3",
   "language": "python",
   "name": "python3"
  },
  "language_info": {
   "codemirror_mode": {
    "name": "ipython",
    "version": 3
   },
   "file_extension": ".py",
   "mimetype": "text/x-python",
   "name": "python",
   "nbconvert_exporter": "python",
   "pygments_lexer": "ipython3",
   "version": "3.9.1"
  }
 },
 "nbformat": 4,
 "nbformat_minor": 4
}
