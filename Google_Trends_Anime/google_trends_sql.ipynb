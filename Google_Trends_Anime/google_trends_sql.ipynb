{
 "cells": [
  {
   "cell_type": "code",
   "execution_count": 26,
   "metadata": {},
   "outputs": [],
   "source": [
    "import numpy as np\n",
    "import psycopg2\n",
    "from psycopg2 import OperationalError\n",
    "from psycopg2.extensions import register_adapter, AsIs\n",
    "psycopg2.extensions.register_adapter(np.int64, psycopg2._psycopg.AsIs)\n",
    "psycopg2.extensions.register_adapter(np.bool_, psycopg2._psycopg.AsIs)\n",
    "from pytrends.request import TrendReq\n",
    "from time import sleep\n",
    "import pandas as pd\n",
    "import seaborn as sns\n",
    "import json"
   ]
  },
  {
   "cell_type": "code",
   "execution_count": 27,
   "metadata": {},
   "outputs": [],
   "source": [
    "#get credentials\n",
    "with open(\"postgre_credentials.json\") as file:\n",
    "    data = json.load(file)"
   ]
  },
  {
   "cell_type": "code",
   "execution_count": 28,
   "metadata": {},
   "outputs": [],
   "source": [
    "def reset_connection():\n",
    "    if 'connection' not in locals():\n",
    "        connection = psycopg2.connect(\n",
    "        database = data[\"db_name\"], \n",
    "        user = data[\"db_user\"],\n",
    "        password = data[\"db_password\"],\n",
    "        host = data[\"db_host\"],\n",
    "        port = data[\"db_port\"]\n",
    "        )\n",
    "        cur = connection.cursor()\n",
    "        return connection,cur;\n",
    "    else:\n",
    "        connection.close()\n",
    "        connection = psycopg2.connect(\n",
    "        database = data[\"db_name\"], \n",
    "        user = data[\"db_user\"],\n",
    "        password = data[\"db_password\"],\n",
    "        host = data[\"db_host\"],\n",
    "        port = data[\"db_port\"]\n",
    "        )\n",
    "        cur = connection.cursor()\n",
    "        return connection, cur;"
   ]
  },
  {
   "cell_type": "code",
   "execution_count": 29,
   "metadata": {},
   "outputs": [],
   "source": [
    "connection, cur = reset_connection()"
   ]
  },
  {
   "cell_type": "markdown",
   "metadata": {},
   "source": [
    "## Get 10 shows that have finished airing"
   ]
  },
  {
   "cell_type": "code",
   "execution_count": 35,
   "metadata": {},
   "outputs": [],
   "source": [
    "query=\"\"\"SELECT anime_id\n",
    "FROM anime\n",
    "WHERE air_status LIKE 'Finished Airing'\n",
    "\"\"\"\n",
    "cur.execute(query)\n",
    "anime_ids = cur.fetchall()"
   ]
  },
  {
   "cell_type": "code",
   "execution_count": 40,
   "metadata": {},
   "outputs": [],
   "source": [
    "test_show = anime_ids[0][0]"
   ]
  },
  {
   "cell_type": "code",
   "execution_count": 41,
   "metadata": {},
   "outputs": [],
   "source": [
    "def call_google_trends(country, anime_id):    \n",
    "    try:                \n",
    "        pytrends.build_payload(kw_list=[name],cat=0,timeframe='all', geo=country)\n",
    "        data = pytrends.interest_over_time()\n",
    "        #print(data)\n",
    "        if not data.empty:\n",
    "            data = data.drop(labels=['isPartial'],axis='columns')\n",
    "            return data\n",
    "    except (RuntimeError):\n",
    "        print(\"Invalid Name?\")\n",
    "        print(RuntimeError)"
   ]
  },
  {
   "cell_type": "code",
   "execution_count": 42,
   "metadata": {},
   "outputs": [],
   "source": [
    "connection.close()"
   ]
  },
  {
   "cell_type": "code",
   "execution_count": null,
   "metadata": {},
   "outputs": [],
   "source": []
  }
 ],
 "metadata": {
  "kernelspec": {
   "display_name": "Python 3",
   "language": "python",
   "name": "python3"
  },
  "language_info": {
   "codemirror_mode": {
    "name": "ipython",
    "version": 3
   },
   "file_extension": ".py",
   "mimetype": "text/x-python",
   "name": "python",
   "nbconvert_exporter": "python",
   "pygments_lexer": "ipython3",
   "version": "3.9.1"
  }
 },
 "nbformat": 4,
 "nbformat_minor": 4
}
