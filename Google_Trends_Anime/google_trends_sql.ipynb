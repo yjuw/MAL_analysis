{
 "cells": [
  {
   "cell_type": "code",
   "execution_count": 1,
   "metadata": {},
   "outputs": [],
   "source": [
    "import numpy as np\n",
    "import psycopg2\n",
    "from psycopg2 import OperationalError\n",
    "from psycopg2.extensions import register_adapter, AsIs\n",
    "psycopg2.extensions.register_adapter(np.int64, psycopg2._psycopg.AsIs)\n",
    "psycopg2.extensions.register_adapter(np.bool_, psycopg2._psycopg.AsIs)\n",
    "from pytrends.request import TrendReq\n",
    "from time import sleep\n",
    "import pandas as pd\n",
    "import seaborn as sns\n",
    "import json\n",
    "\n",
    "pytrends = TrendReq(hl='en-US', tz=360)"
   ]
  },
  {
   "cell_type": "code",
   "execution_count": 2,
   "metadata": {},
   "outputs": [],
   "source": [
    "#get credentials\n",
    "with open(\"postgre_credentials.json\") as file:\n",
    "    data = json.load(file)"
   ]
  },
  {
   "cell_type": "code",
   "execution_count": 3,
   "metadata": {},
   "outputs": [],
   "source": [
    "def reset_connection():\n",
    "    if 'connection' not in locals():\n",
    "        connection = psycopg2.connect(\n",
    "        database = data[\"db_name\"], \n",
    "        user = data[\"db_user\"],\n",
    "        password = data[\"db_password\"],\n",
    "        host = data[\"db_host\"],\n",
    "        port = data[\"db_port\"]\n",
    "        )\n",
    "        cur = connection.cursor()\n",
    "        return connection,cur;\n",
    "    else:\n",
    "        connection.close()\n",
    "        connection = psycopg2.connect(\n",
    "        database = data[\"db_name\"], \n",
    "        user = data[\"db_user\"],\n",
    "        password = data[\"db_password\"],\n",
    "        host = data[\"db_host\"],\n",
    "        port = data[\"db_port\"]\n",
    "        )\n",
    "        cur = connection.cursor()\n",
    "        return connection, cur;"
   ]
  },
  {
   "cell_type": "code",
   "execution_count": 32,
   "metadata": {},
   "outputs": [],
   "source": [
    "connection, cur = reset_connection()"
   ]
  },
  {
   "cell_type": "code",
   "execution_count": 8,
   "metadata": {},
   "outputs": [],
   "source": [
    "query=\"\"\"SELECT eng_name, alternate_name\n",
    "FROM anime join show_name ON anime.anime_id = show_name.anime_id\n",
    "WHERE air_status LIKE 'Finished Airing'\n",
    "\"\"\"\n",
    "cur.execute(query)\n",
    "anime_ids = cur.fetchall()"
   ]
  },
  {
   "cell_type": "code",
   "execution_count": 6,
   "metadata": {},
   "outputs": [],
   "source": [
    "#anime_ids"
   ]
  },
  {
   "cell_type": "code",
   "execution_count": 5,
   "metadata": {},
   "outputs": [],
   "source": [
    "#input country string - Example: 'US'\n",
    "#input show_tuple - tuple with eng_name as the first entry. May contain 'NA'\n",
    "#output - google trends_table is filled with show info with show_name attached\n",
    "def call_google_trends(country, show_tuple):    \n",
    "    try:\n",
    "        name = \"fill\"\n",
    "        for entry in show_tuple:\n",
    "            if entry != \"NA\":\n",
    "                name = entry\n",
    "                break       \n",
    "        if name!= \"fill\":\n",
    "            pytrends.build_payload(kw_list=[name],cat=0,timeframe='all', geo=country)\n",
    "            data = pytrends.interest_over_time()\n",
    "            #print(data)\n",
    "            if not data.empty:\n",
    "                data = data.drop(labels=['isPartial'],axis='columns')\n",
    "                return data\n",
    "    except (RuntimeError):\n",
    "        print(\"Invalid Name?\")\n",
    "        print(RuntimeError)"
   ]
  },
  {
   "cell_type": "code",
   "execution_count": 59,
   "metadata": {},
   "outputs": [],
   "source": [
    "def insert_pop_score(show_df):\n",
    "    #get show name id\n",
    "    try:\n",
    "        show_name = show_df.columns[0]\n",
    "\n",
    "        cur.execute(\"\"\"SELECT show_name_id\n",
    "                    FROM show_name\n",
    "                    WHERE alternate_name LIKE %s\"\"\",\n",
    "                   (show_name,))\n",
    "        show_name_id = cur.fetchone()[0]\n",
    "        for row in show_df.iterrows():\n",
    "            popularity_score = row[1][0]\n",
    "            date_id = row[0]\n",
    "            cur.execute(\"\"\"INSERT INTO google_trends(show_name, date, popularity_score)\n",
    "                        VALUES (%s, %s, %s)\n",
    "                        \"\"\",(show_name_id, date_id, popularity_score))\n",
    "            connection.commit()\n",
    "            \n",
    "    except:\n",
    "        print(\"not in the db\")\n",
    "        reset_connection()\n",
    "    \n",
    "\n",
    "\n",
    "\n"
   ]
  },
  {
   "cell_type": "code",
   "execution_count": 9,
   "metadata": {},
   "outputs": [],
   "source": [
    "\n",
    "anime_ids = [entry for entry in anime_ids if entry[0]!='NA']"
   ]
  },
  {
   "cell_type": "code",
   "execution_count": 12,
   "metadata": {},
   "outputs": [
    {
     "data": {
      "text/plain": [
       "('The Drop', 'しずく')"
      ]
     },
     "execution_count": 12,
     "metadata": {},
     "output_type": "execute_result"
    }
   ],
   "source": [
    "anime_ids[20]"
   ]
  },
  {
   "cell_type": "code",
   "execution_count": 13,
   "metadata": {},
   "outputs": [],
   "source": [
    "test_df = call_google_trends('US', anime_ids[20])"
   ]
  },
  {
   "cell_type": "code",
   "execution_count": 14,
   "metadata": {},
   "outputs": [],
   "source": [
    "test_df.index = np.arange(1,205)"
   ]
  },
  {
   "cell_type": "code",
   "execution_count": 60,
   "metadata": {},
   "outputs": [],
   "source": [
    "insert_pop_score(test_df)"
   ]
  },
  {
   "cell_type": "code",
   "execution_count": null,
   "metadata": {},
   "outputs": [],
   "source": [
    "connection.close()"
   ]
  },
  {
   "cell_type": "code",
   "execution_count": null,
   "metadata": {},
   "outputs": [],
   "source": []
  }
 ],
 "metadata": {
  "kernelspec": {
   "display_name": "Python 3",
   "language": "python",
   "name": "python3"
  },
  "language_info": {
   "codemirror_mode": {
    "name": "ipython",
    "version": 3
   },
   "file_extension": ".py",
   "mimetype": "text/x-python",
   "name": "python",
   "nbconvert_exporter": "python",
   "pygments_lexer": "ipython3",
   "version": "3.9.1"
  }
 },
 "nbformat": 4,
 "nbformat_minor": 4
}
